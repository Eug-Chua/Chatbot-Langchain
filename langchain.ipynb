{
 "cells": [
  {
   "cell_type": "code",
   "execution_count": 13,
   "metadata": {},
   "outputs": [],
   "source": [
    "# from langchain.llms import OpenAI\n",
    "from langchain_openai import OpenAI"
   ]
  },
  {
   "cell_type": "code",
   "execution_count": 3,
   "metadata": {},
   "outputs": [],
   "source": [
    "import os\n",
    "from dotenv import load_dotenv\n",
    "\n",
    "load_dotenv()\n",
    "api_key = os.getenv(\"OPENAI_API_KEY\")\n",
    "hf_api_key = os.getenv(\"HUGGINGFACEHUB_API_TOKEN\")"
   ]
  },
  {
   "cell_type": "code",
   "execution_count": 14,
   "metadata": {},
   "outputs": [],
   "source": [
    "# set temperature to 0.6\n",
    "# temperature ranges from 0 to 1\n",
    "# 0 being most predictable and 1 being most random\n",
    "llm = OpenAI(temperature=0.6)"
   ]
  },
  {
   "cell_type": "code",
   "execution_count": 15,
   "metadata": {},
   "outputs": [
    {
     "name": "stdout",
     "output_type": "stream",
     "text": [
      "\n",
      "\n",
      "The capital of Texas is currently Austin. Its historical capitals include San Felipe de Austin, Washington-on-the-Brazos, Harrisburg, Galveston, Velasco, and Houston.\n"
     ]
    }
   ],
   "source": [
    "text=\"what is the capital of Texas? If there is currently none, tell me its historical capital, if any.\"\n",
    "\n",
    "print(llm.predict(text))"
   ]
  },
  {
   "cell_type": "code",
   "execution_count": 16,
   "metadata": {},
   "outputs": [],
   "source": [
    "hf_api_key = os.getenv(\"HUGGINGFACEHUB_API_TOKEN\")"
   ]
  },
  {
   "cell_type": "code",
   "execution_count": 17,
   "metadata": {},
   "outputs": [],
   "source": [
    "from langchain import HuggingFaceHub\n",
    "llm_huggingface = HuggingFaceHub(repo_id=\"google/flan-t5-large\", model_kwargs={\"temperature\":0,\"max_length\":64},huggingfacehub_api_token=hf_api_key)\n"
   ]
  },
  {
   "cell_type": "code",
   "execution_count": 18,
   "metadata": {},
   "outputs": [
    {
     "name": "stdout",
     "output_type": "stream",
     "text": [
      "kyoto\n"
     ]
    }
   ],
   "source": [
    "output=llm_huggingface.predict(\"Can you tell me the capital of Japan from 1750 to 1950\")\n",
    "print(output)"
   ]
  },
  {
   "cell_type": "code",
   "execution_count": 19,
   "metadata": {},
   "outputs": [
    {
     "name": "stdout",
     "output_type": "stream",
     "text": [
      "i love you i love you i love you i love you i love you i love you i love you i love you i love you i love you i love you i love you i love you i love you i love you i love\n"
     ]
    }
   ],
   "source": [
    "output=llm_huggingface.predict(\"Can you write me a poem about america\")\n",
    "print(output)"
   ]
  },
  {
   "cell_type": "code",
   "execution_count": 20,
   "metadata": {},
   "outputs": [
    {
     "data": {
      "text/plain": [
       "\"\\n\\nOh America, land of the free\\nWhere dreams are born, for all to see\\nFrom sea to shining sea, you stand tall\\nA beacon of hope, for one and all\\n\\nYour fields of green, your skies of blue\\nYour mountains high, your rivers true\\nBeauty abounds in every state\\nA diverse land, we celebrate\\n\\nFrom the bustling cities, to the quiet towns\\nEach one with its own unique sounds\\nPeople from all walks of life\\nTogether, we overcome any strife\\n\\nOh America, with your melting pot\\nA nation of immigrants, we've got\\nDifferent cultures, different ways\\nBut united, we face each day\\n\\nFrom the Declaration of Independence\\nTo the Constitution, our guidance\\nFreedom and equality, our core\\nWe strive for justice, forever more\\n\\nOh America, you have your flaws\\nBut we work together, for a better cause\\nTo build a nation, of love and peace\\nWhere all are welcome, and hatred cease\\n\\nSo let us raise our voices high\\nAnd sing the praises, of our country's sky\\nFor America, we stand proud and true\\nA land of opportunity, for me and you.\""
      ]
     },
     "execution_count": 20,
     "metadata": {},
     "output_type": "execute_result"
    }
   ],
   "source": [
    "llm.predict(\"Can you write me a poem about america\")"
   ]
  },
  {
   "cell_type": "markdown",
   "metadata": {},
   "source": [
    "# Prompt Templates"
   ]
  },
  {
   "cell_type": "code",
   "execution_count": 21,
   "metadata": {},
   "outputs": [
    {
     "data": {
      "text/plain": [
       "'What is the capital of Samoa'"
      ]
     },
     "execution_count": 21,
     "metadata": {},
     "output_type": "execute_result"
    }
   ],
   "source": [
    "from langchain.prompts import PromptTemplate\n",
    "\n",
    "prompt_template = PromptTemplate(input_variables=['country'],\n",
    "                                 template=\"What is the capital of {country}\")\n",
    "\n",
    "prompt_template.format(country='Samoa')"
   ]
  },
  {
   "cell_type": "code",
   "execution_count": 22,
   "metadata": {},
   "outputs": [
    {
     "data": {
      "text/plain": [
       "'\\n\\nThe capital of Kenya is Nairobi.'"
      ]
     },
     "execution_count": 22,
     "metadata": {},
     "output_type": "execute_result"
    }
   ],
   "source": [
    "from langchain.chains import LLMChain\n",
    "\n",
    "chian = LLMChain(llm=llm, prompt=prompt_template)\n",
    "chian.run(\"Kenya\")"
   ]
  },
  {
   "cell_type": "markdown",
   "metadata": {},
   "source": [
    "# Combining Multiple Chains Using Simple Sequential Chain"
   ]
  },
  {
   "cell_type": "code",
   "execution_count": 24,
   "metadata": {},
   "outputs": [],
   "source": [
    "capital_template=PromptTemplate(input_variables=['country'],\n",
    "                               template=\"What is the capital of {country}\")\n",
    "\n",
    "capital_chain = LLMChain(llm=llm, prompt=capital_template)"
   ]
  },
  {
   "cell_type": "code",
   "execution_count": 25,
   "metadata": {},
   "outputs": [],
   "source": [
    "famous_template=PromptTemplate(input_variables=['capital'],\n",
    "                               template=\"Suggest 3 important historical landmarks in {capital}\")\n",
    "\n",
    "famous_chain = LLMChain(llm=llm,\n",
    "                        prompt=famous_template)"
   ]
  },
  {
   "cell_type": "code",
   "execution_count": 27,
   "metadata": {},
   "outputs": [
    {
     "data": {
      "text/plain": [
       "\"\\n\\n1. Zagreb Cathedral - This iconic landmark is the tallest building in Croatia and serves as the seat of the Catholic Archdiocese of Zagreb. It is a prime example of Gothic architecture and has a rich history dating back to the 11th century.\\n\\n2. St. Mark's Church - Located in the Upper Town of Zagreb, this church is known for its colorful tiled roof that displays the coats of arms of Zagreb and Croatia. It was built in the 13th century and has undergone several renovations, making it a blend of Gothic, Romanesque, and Baroque styles.\\n\\n3. Ban Jelačić Square - This central square in Zagreb is named after the Croatian military leader and national hero, Josip Jelačić. It has been a significant gathering place for centuries and is surrounded by important buildings such as the Croatian National Theatre and the Zagreb Stock Exchange. It also serves as a popular spot for events and celebrations.\""
      ]
     },
     "execution_count": 27,
     "metadata": {},
     "output_type": "execute_result"
    }
   ],
   "source": [
    "from langchain.chains import SimpleSequentialChain\n",
    "\n",
    "chain = SimpleSequentialChain(chains=[capital_chain,\n",
    "                                      famous_chain])\n",
    "chain.run(\"Croatia\")"
   ]
  },
  {
   "cell_type": "code",
   "execution_count": null,
   "metadata": {},
   "outputs": [],
   "source": []
  }
 ],
 "metadata": {
  "kernelspec": {
   "display_name": "Python 3",
   "language": "python",
   "name": "python3"
  },
  "language_info": {
   "codemirror_mode": {
    "name": "ipython",
    "version": 3
   },
   "file_extension": ".py",
   "mimetype": "text/x-python",
   "name": "python",
   "nbconvert_exporter": "python",
   "pygments_lexer": "ipython3",
   "version": "3.9.0"
  }
 },
 "nbformat": 4,
 "nbformat_minor": 2
}
